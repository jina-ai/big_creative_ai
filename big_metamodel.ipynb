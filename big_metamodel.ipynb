{
 "cells": [
  {
   "cell_type": "markdown",
   "metadata": {
    "id": "Tq6-WMmZTIk3"
   },
   "source": [
    "## 1. Clone BIG Project"
   ]
  },
  {
   "cell_type": "code",
   "execution_count": null,
   "metadata": {
    "id": "lXCC62WWTOlo"
   },
   "outputs": [],
   "source": [
    "%cd \"/content/\"\n",
    "!git clone https://github.com/jina-ai/big_creative_ai.git\n",
    "\n",
    "%cd \"big_creative_ai\"\n",
    "!git checkout feat-small-bs\n",
    "%ls"
   ]
  },
  {
   "cell_type": "markdown",
   "metadata": {
    "id": "TR-nF8awMM1A"
   },
   "source": [
    "## 2. Install Requirements"
   ]
  },
  {
   "cell_type": "code",
   "execution_count": null,
   "metadata": {
    "id": "yzG5IfrxKt-v"
   },
   "outputs": [],
   "source": [
    "%pip uninstall tensorflow -y\n",
    "%pip install jina==3.12.0\n",
    "%pip install -r BIGDreamBooth/requirements-colab.txt\n",
    "%pip install -qq git+https://github.com/ShivamShrirao/diffusers\n",
    "%pip install -q -U --pre triton\n",
    "%pip install --no-deps -q https://github.com/brian6091/xformers-wheels/releases/download/0.0.15.dev0%2B4c06c79/xformers-0.0.15.dev0+4c06c79.d20221205-cp38-cp38-linux_x86_64.whl"
   ]
  },
  {
   "cell_type": "markdown",
   "metadata": {
    "id": "BoRWbFUHN-4y"
   },
   "source": [
    "## 3. Import and Login to Hubble"
   ]
  },
  {
   "cell_type": "code",
   "execution_count": null,
   "metadata": {
    "id": "KaKzywlEKv3q"
   },
   "outputs": [],
   "source": [
    "import os\n",
    "os.environ['JINA_LOG_LEVEL'] = 'DEBUG'\n",
    "from torch import multiprocessing\n",
    "\n",
    "multiprocessing.set_start_method('spawn')\n",
    "\n",
    "import hubble\n",
    "\n",
    "hubble.login()"
   ]
  },
  {
   "cell_type": "markdown",
   "metadata": {
    "id": "u2wjIBQXOXrv"
   },
   "source": [
    "## 5. Start `BIGDreamBoothExecutor` in a Flow"
   ]
  },
  {
   "cell_type": "code",
   "execution_count": null,
   "metadata": {
    "id": "3q35cMikLnyA"
   },
   "outputs": [],
   "source": [
    "from jina import Flow\n",
    "from BIGDreamBooth.executor import BIGDreamBoothExecutor\n",
    "\n",
    "os.environ['JINA_LOG_LEVEL'] = 'DEBUG'\n",
    "\n",
    "hf_token = ''\n",
    "\n",
    "f = BIGDreamBoothExecutor(\n",
    "    hf_token=hf_token,\n",
    "    is_colab=True\n",
    ")\n",
    "# f = Flow(env={'JINA_LOG_LEVEL': 'DEBUG'}).add(\n",
    "#     uses=BIGDreamBoothExecutor,\n",
    "#     uses_with={\n",
    "#         'hf_token': hf_token,\n",
    "#         'use_small_batch_size': True\n",
    "#     },\n",
    "#     env={'JINA_LOG_LEVEL': 'DEBUG'}\n",
    "#   )\n",
    "#\n",
    "# f.start()"
   ]
  },
  {
   "cell_type": "markdown",
   "metadata": {
    "id": "_GROx0BnOgdN"
   },
   "source": [
    "## 6. Generate Images with Pretrained Stable Diffusion\n"
   ]
  },
  {
   "cell_type": "code",
   "execution_count": null,
   "metadata": {
    "id": "E3NUylEnVnc1"
   },
   "outputs": [],
   "source": [
    "import time\n",
    "from pathlib import Path\n",
    "\n",
    "from docarray import DocumentArray, Document\n",
    "import hubble\n",
    "\n",
    "object_style_identifier = None\n",
    "prompt = f'an austronaut riding a horse on the moon'\n",
    "# 'private' for using private model, 'meta' for using metamodel, 'pretrained' for using pretrained model\n",
    "target_model = 'pretrained'\n",
    "\n",
    "num_images = 10\n",
    "\n",
    "\n",
    "client = f\n",
    "\n",
    "# update prompt with category of used identifiers\n",
    "identifier_n_categories = client.post(\n",
    "    on='/list_identifiers_n_categories',\n",
    "    parameters={\n",
    "        'jwt': {\n",
    "            'token': hubble.get_token(),\n",
    "        },\n",
    "    }\n",
    ")\n",
    "identifier_n_categories = identifier_n_categories[0].tags.get(target_model, {})\n",
    "for _identifier, _category in identifier_n_categories.items():\n",
    "    prompt = prompt.replace(_identifier, f\"{_identifier} {_category}\")\n",
    "\n",
    "# generate images\n",
    "folder_images_prefix = 'generated_images'\n",
    "if target_model == 'private':\n",
    "    folder_images_prefix += f'/{object_style_identifier}'\n",
    "elif target_model == 'meta':\n",
    "    folder_images_prefix += f'/metamodel'\n",
    "elif target_model == 'pretrained':\n",
    "    folder_images_prefix += f'/pretrained'\n",
    "elif target_model == 'private_meta':\n",
    "    folder_images_prefix += f'/private_metamodel'\n",
    "else:\n",
    "    raise ValueError(f\"Unknown target_model '{target_model}'\")\n",
    "folder_images = Path(f\"{folder_images_prefix}/{prompt.replace(' ', '-').replace(',', '')}\")\n",
    "folder_images = Path(f\"{str(folder_images)[:200]}-{time.time()}\")\n",
    "\n",
    "image_docs: DocumentArray = client.post(\n",
    "    on='/generate',\n",
    "    inputs=Document(text=prompt),\n",
    "    parameters={\n",
    "        'jwt': {\n",
    "            'token': hubble.get_token(),\n",
    "        },\n",
    "        'identifier': object_style_identifier,\n",
    "        'target_model': target_model,\n",
    "        'num_images': num_images,\n",
    "    }\n",
    ")\n",
    "folder_images.mkdir(exist_ok=True, parents=True)\n",
    "for i, image_doc in enumerate(image_docs[0].chunks):\n",
    "    image_doc.save_blob_to_file(f\"{str(folder_images)}/generation-{i}.png\")\n",
    "\n",
    "print(f\"Generations were successful and were saved to {folder_images}\")\n",
    "\n"
   ]
  },
  {
   "cell_type": "markdown",
   "metadata": {
    "id": "h-kovhRBil0f"
   },
   "source": [
    "## Fine-tune Stable Diffusion To Your Images"
   ]
  },
  {
   "cell_type": "code",
   "execution_count": null,
   "metadata": {
    "id": "XaU_vU_yip8z"
   },
   "outputs": [],
   "source": [
    "from docarray import DocumentArray\n",
    "\n",
    "\n",
    "# specify the path to the images\n",
    "path_to_instance_images = '../path_to_images'\n",
    "# specify the category of the images, this could be e.g. 'painting', 'dog', 'bottle', etc.\n",
    "category = '[category of images]'\n",
    "# 'private' for training private model from pretrained model, 'meta' for training metamodel\n",
    "target_model = 'private'\n",
    "\n",
    "# some custom parameters for the training\n",
    "max_train_steps = 4\n",
    "learning_rate = 1e-6\n",
    "\n",
    "\n",
    "docs = DocumentArray.from_files(f'{path_to_instance_images}/**')\n",
    "for doc in docs:\n",
    "    doc.load_uri_to_blob()\n",
    "    doc.uri = None\n",
    "\n",
    "client = f\n",
    "\n",
    "identifier_doc = client.finetune(\n",
    "    docs=docs,\n",
    "    parameters={\n",
    "        'jwt': {\n",
    "            'token': hubble.get_token(),\n",
    "        },\n",
    "        'category': category,\n",
    "        'target_model': target_model,\n",
    "        'learning_rate': learning_rate,\n",
    "        'max_train_steps': max_train_steps,\n",
    "    },\n",
    ")\n",
    "# identifier_doc = client.post(\n",
    "#     on='/finetune',\n",
    "#     inputs=docs,\n",
    "#     parameters={\n",
    "#         'jwt': {\n",
    "#             'token': hubble.get_token(),\n",
    "#         },\n",
    "#         'category': category,\n",
    "#         'target_model': target_model,\n",
    "#         'learning_rate': learning_rate,\n",
    "#         'max_train_steps': max_train_steps,\n",
    "#     },\n",
    "# )\n",
    "\n",
    "print(f\"Finetuning was successful. The identifier for the object is '{identifier_doc[0].text}'\")"
   ]
  },
  {
   "cell_type": "markdown",
   "source": [
    "## 7. Generate Images for Fine-tuned Model"
   ],
   "metadata": {
    "id": "oG9qpFpW-hl5"
   }
  },
  {
   "cell_type": "code",
   "execution_count": null,
   "metadata": {
    "id": "BwhSW6n7iphD"
   },
   "outputs": [],
   "source": [
    "import time\n",
    "from pathlib import Path\n",
    "\n",
    "from docarray import DocumentArray\n",
    "from jina import Client, Document\n",
    "import hubble\n",
    "\n",
    "object_style_identifier = 'sks'\n",
    "prompt = f'a {object_style_identifier}'\n",
    "# 'private' for using private model, 'meta' for using metamodel, 'pretrained' for using pretrained model\n",
    "target_model = 'private'\n",
    "\n",
    "num_images = 10\n",
    "\n",
    "\n",
    "client = f\n",
    "\n",
    "# update prompt with category of used identifiers\n",
    "identifier_n_categories = client.post(\n",
    "    on='/list_identifiers_n_categories',\n",
    "    parameters={\n",
    "        'jwt': {\n",
    "            'token': hubble.get_token(),\n",
    "        },\n",
    "    }\n",
    ")\n",
    "print(identifier_n_categories[0].tags)\n",
    "identifier_n_categories = identifier_n_categories[0].tags.get(target_model, {})\n",
    "for _identifier, _category in identifier_n_categories.items():\n",
    "    prompt = prompt.replace(_identifier, f\"{_identifier} {_category}\")\n",
    "\n",
    "# generate images\n",
    "folder_images_prefix = '../generated_images'\n",
    "if target_model == 'private':\n",
    "    folder_images_prefix += f'/{object_style_identifier}'\n",
    "elif target_model == 'meta':\n",
    "    folder_images_prefix += f'/metamodel'\n",
    "elif target_model == 'pretrained':\n",
    "    folder_images_prefix += f'/pretrained'\n",
    "elif target_model == 'private_meta':\n",
    "    folder_images_prefix += f'/private_metamodel'\n",
    "else:\n",
    "    raise ValueError(f\"Unknown target_model '{target_model}'\")\n",
    "folder_images = Path(f\"{folder_images_prefix}/{prompt.replace(' ', '-').replace(',', '')}\")\n",
    "folder_images = Path(f\"{str(folder_images)[:200]}-{time.time()}\")\n",
    "\n",
    "image_docs: DocumentArray = client.post(\n",
    "    on='/generate',\n",
    "    inputs=Document(text=prompt),\n",
    "    parameters={\n",
    "        'jwt': {\n",
    "            'token': hubble.get_token(),\n",
    "        },\n",
    "        'identifier': object_style_identifier,\n",
    "        'target_model': target_model,\n",
    "        'num_images': num_images,\n",
    "    }\n",
    ")\n",
    "folder_images.mkdir(exist_ok=True, parents=True)\n",
    "for i, image_doc in enumerate(image_docs[0].chunks):\n",
    "    image_doc.save_blob_to_file(f\"{str(folder_images)}/generation-{i}.png\")\n",
    "\n",
    "print(f\"Generations were successful and were saved to {folder_images}\")\n",
    "\n"
   ]
  },
  {
   "cell_type": "markdown",
   "source": [
    "## 8. Repeat\n",
    "\n",
    "Now you can fine-tune more `private`, public `meta` models or `private_meta` models and generate images with thems."
   ],
   "metadata": {
    "id": "i4AA6MW6-lHi"
   }
  }
 ],
 "metadata": {
  "accelerator": "GPU",
  "colab": {
   "provenance": []
  },
  "gpuClass": "standard",
  "kernelspec": {
   "display_name": "Python 3 (ipykernel)",
   "language": "python",
   "name": "python3"
  },
  "language_info": {
   "codemirror_mode": {
    "name": "ipython",
    "version": 3
   },
   "file_extension": ".py",
   "mimetype": "text/x-python",
   "name": "python",
   "nbconvert_exporter": "python",
   "pygments_lexer": "ipython3",
   "version": "3.7.9"
  }
 },
 "nbformat": 4,
 "nbformat_minor": 0
}
